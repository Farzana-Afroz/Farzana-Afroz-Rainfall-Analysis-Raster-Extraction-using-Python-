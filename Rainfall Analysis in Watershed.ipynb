{
 "cells": [
  {
   "cell_type": "code",
   "execution_count": null,
   "metadata": {},
   "outputs": [],
   "source": [
    "!pip install pandas\n",
    "!pip install geopandas\n",
    "!pip install matplotlib\n",
    "!pip install rasterio\n",
    "!pip install rasterstats"
   ]
  },
  {
   "cell_type": "code",
   "execution_count": 17,
   "metadata": {},
   "outputs": [],
   "source": [
    "import geopandas as gpd\n",
    "import rasterio\n",
    "import rasterstats\n",
    "import matplotlib.pyplot as plt\n",
    "import pandas as pd\n",
    "import os\n",
    "import numpy as np"
   ]
  },
  {
   "cell_type": "code",
   "execution_count": 18,
   "metadata": {},
   "outputs": [
    {
     "data": {
      "text/plain": [
       "<AxesSubplot: >"
      ]
     },
     "execution_count": 18,
     "metadata": {},
     "output_type": "execute_result"
    },
    {
     "data": {
      "image/png": "[encoded data removed]",
      "text/plain": [
       "<Figure size 640x480 with 1 Axes>"
      ]
     },
     "metadata": {},
     "output_type": "display_data"
    }
   ],
   "source": [
    "watershed = gpd.read_file(\".\\WaterShed\\AG33_WS_Sord1_Stm_Faccu_Fdir_Fill_DEM_ASTERMV003.shp\")\n",
    "watershed.plot()"
   ]
  },
  {
   "cell_type": "code",
   "execution_count": 19,
   "metadata": {},
   "outputs": [
    {
     "data": {
      "text/html": [
       "<div>\n",
       "<style scoped>\n",
       "    .dataframe tbody tr th:only-of-type {\n",
       "        vertical-align: middle;\n",
       "    }\n",
       "\n",
       "    .dataframe tbody tr th {\n",
       "        vertical-align: top;\n",
       "    }\n",
       "\n",
       "    .dataframe thead th {\n",
       "        text-align: right;\n",
       "    }\n",
       "</style>\n",
       "<table border=\"1\" class=\"dataframe\">\n",
       "  <thead>\n",
       "    <tr style=\"text-align: right;\">\n",
       "      <th></th>\n",
       "      <th>Id</th>\n",
       "      <th>gridcode</th>\n",
       "      <th>Upazila</th>\n",
       "      <th>Area</th>\n",
       "      <th>geometry</th>\n",
       "    </tr>\n",
       "  </thead>\n",
       "  <tbody>\n",
       "    <tr>\n",
       "      <th>0</th>\n",
       "      <td>1</td>\n",
       "      <td>13</td>\n",
       "      <td>Lalmonirhat Sadar</td>\n",
       "      <td>1652.248870</td>\n",
       "      <td>POLYGON ((89.37819 25.77319, 89.35485 25.77735...</td>\n",
       "    </tr>\n",
       "    <tr>\n",
       "      <th>1</th>\n",
       "      <td>2</td>\n",
       "      <td>14</td>\n",
       "      <td>Lalmonirhat Sadar</td>\n",
       "      <td>15408.721309</td>\n",
       "      <td>POLYGON ((89.47903 25.86486, 89.47478 25.86979...</td>\n",
       "    </tr>\n",
       "    <tr>\n",
       "      <th>2</th>\n",
       "      <td>3</td>\n",
       "      <td>16</td>\n",
       "      <td>Dewanganj &amp; Bakshiganj</td>\n",
       "      <td>387123.127781</td>\n",
       "      <td>POLYGON ((89.37819 25.77319, 89.43777 25.76824...</td>\n",
       "    </tr>\n",
       "    <tr>\n",
       "      <th>3</th>\n",
       "      <td>4</td>\n",
       "      <td>15</td>\n",
       "      <td>Mohammadpur</td>\n",
       "      <td>1619.620792</td>\n",
       "      <td>POLYGON ((89.19486 23.67403, 89.18977 23.67810...</td>\n",
       "    </tr>\n",
       "    <tr>\n",
       "      <th>4</th>\n",
       "      <td>5</td>\n",
       "      <td>19</td>\n",
       "      <td>South Sunamganj &amp; Jagannathpur</td>\n",
       "      <td>41427.273370</td>\n",
       "      <td>POLYGON ((91.73403 23.75653, 91.73827 23.77979...</td>\n",
       "    </tr>\n",
       "    <tr>\n",
       "      <th>5</th>\n",
       "      <td>6</td>\n",
       "      <td>18</td>\n",
       "      <td>Salikha</td>\n",
       "      <td>3870.227143</td>\n",
       "      <td>POLYGON ((89.19486 23.67403, 89.24469 23.68161...</td>\n",
       "    </tr>\n",
       "  </tbody>\n",
       "</table>\n",
       "</div>"
      ],
      "text/plain": [
       "   Id  gridcode                         Upazila           Area  \\\n",
       "0   1        13               Lalmonirhat Sadar    1652.248870   \n",
       "1   2        14               Lalmonirhat Sadar   15408.721309   \n",
       "2   3        16          Dewanganj & Bakshiganj  387123.127781   \n",
       "3   4        15                     Mohammadpur    1619.620792   \n",
       "4   5        19  South Sunamganj & Jagannathpur   41427.273370   \n",
       "5   6        18                         Salikha    3870.227143   \n",
       "\n",
       "                                            geometry  \n",
       "0  POLYGON ((89.37819 25.77319, 89.35485 25.77735...  \n",
       "1  POLYGON ((89.47903 25.86486, 89.47478 25.86979...  \n",
       "2  POLYGON ((89.37819 25.77319, 89.43777 25.76824...  \n",
       "3  POLYGON ((89.19486 23.67403, 89.18977 23.67810...  \n",
       "4  POLYGON ((91.73403 23.75653, 91.73827 23.77979...  \n",
       "5  POLYGON ((89.19486 23.67403, 89.24469 23.68161...  "
      ]
     },
     "execution_count": 19,
     "metadata": {},
     "output_type": "execute_result"
    }
   ],
   "source": [
    "watershed"
   ]
  },
  {
   "cell_type": "code",
   "execution_count": 20,
   "metadata": {},
   "outputs": [
    {
     "data": {
      "text/plain": [
       "Id                                                          3\n",
       "gridcode                                                   16\n",
       "Upazila                                Dewanganj & Bakshiganj\n",
       "Area                                            387123.127781\n",
       "geometry    POLYGON ((89.37819444444449 25.773194444444442...\n",
       "Name: 2, dtype: object"
      ]
     },
     "execution_count": 20,
     "metadata": {},
     "output_type": "execute_result"
    }
   ],
   "source": [
    "watershed.loc[2]"
   ]
  },
  {
   "cell_type": "code",
   "execution_count": 21,
   "metadata": {},
   "outputs": [
    {
     "data": {
      "text/plain": [
       "pandas.core.series.Series"
      ]
     },
     "execution_count": 21,
     "metadata": {},
     "output_type": "execute_result"
    }
   ],
   "source": [
    "type(watershed.loc[2])"
   ]
  },
  {
   "cell_type": "code",
   "execution_count": 22,
   "metadata": {},
   "outputs": [
    {
     "data": {
      "text/html": [
       "<div>\n",
       "<style scoped>\n",
       "    .dataframe tbody tr th:only-of-type {\n",
       "        vertical-align: middle;\n",
       "    }\n",
       "\n",
       "    .dataframe tbody tr th {\n",
       "        vertical-align: top;\n",
       "    }\n",
       "\n",
       "    .dataframe thead th {\n",
       "        text-align: right;\n",
       "    }\n",
       "</style>\n",
       "<table border=\"1\" class=\"dataframe\">\n",
       "  <thead>\n",
       "    <tr style=\"text-align: right;\">\n",
       "      <th></th>\n",
       "      <th>Id</th>\n",
       "      <th>gridcode</th>\n",
       "      <th>Upazila</th>\n",
       "      <th>Area</th>\n",
       "      <th>geometry</th>\n",
       "    </tr>\n",
       "  </thead>\n",
       "  <tbody>\n",
       "    <tr>\n",
       "      <th>2</th>\n",
       "      <td>3</td>\n",
       "      <td>16</td>\n",
       "      <td>Dewanganj &amp; Bakshiganj</td>\n",
       "      <td>387123.127781</td>\n",
       "      <td>POLYGON ((89.37819444444449 25.773194444444442...</td>\n",
       "    </tr>\n",
       "  </tbody>\n",
       "</table>\n",
       "</div>"
      ],
      "text/plain": [
       "  Id gridcode                 Upazila           Area  \\\n",
       "2  3       16  Dewanganj & Bakshiganj  387123.127781   \n",
       "\n",
       "                                            geometry  \n",
       "2  POLYGON ((89.37819444444449 25.773194444444442...  "
      ]
     },
     "execution_count": 22,
     "metadata": {},
     "output_type": "execute_result"
    }
   ],
   "source": [
    "Dewanganj_df = pd.DataFrame(watershed.loc[2]).transpose()\n",
    "Dewanganj_df"
   ]
  },
  {
   "attachments": {},
   "cell_type": "markdown",
   "metadata": {},
   "source": [
    "# Extration of Dewanganj River Watershed from shp file "
   ]
  },
  {
   "cell_type": "code",
   "execution_count": 23,
   "metadata": {},
   "outputs": [
    {
     "data": {
      "text/plain": [
       "geopandas.geodataframe.GeoDataFrame"
      ]
     },
     "execution_count": 23,
     "metadata": {},
     "output_type": "execute_result"
    }
   ],
   "source": [
    "Dewanganj_poly = gpd.GeoDataFrame(Dewanganj_df, geometry = 'geometry')\n",
    "Dewanganj_poly\n",
    "type (Dewanganj_poly)"
   ]
  },
  {
   "cell_type": "code",
   "execution_count": 24,
   "metadata": {},
   "outputs": [
    {
     "data": {
      "text/plain": [
       "<AxesSubplot: >"
      ]
     },
     "execution_count": 24,
     "metadata": {},
     "output_type": "execute_result"
    },
    {
     "data": {
      "image/png": "[encoded data removed]",
      "text/plain": [
       "<Figure size 640x480 with 1 Axes>"
      ]
     },
     "metadata": {},
     "output_type": "display_data"
    }
   ],
   "source": [
    "Dewanganj_poly.plot()"
   ]
  },
  {
   "cell_type": "code",
   "execution_count": 25,
   "metadata": {},
   "outputs": [],
   "source": [
    "# Coordinate Reference System"
   ]
  },
  {
   "cell_type": "code",
   "execution_count": null,
   "metadata": {},
   "outputs": [],
   "source": [
    "watershed.crs"
   ]
  },
  {
   "cell_type": "code",
   "execution_count": 27,
   "metadata": {},
   "outputs": [
    {
     "data": {
      "text/plain": [
       "<Geographic 2D CRS: EPSG:4326>\n",
       "Name: WGS 84\n",
       "Axis Info [ellipsoidal]:\n",
       "- Lat[north]: Geodetic latitude (degree)\n",
       "- Lon[east]: Geodetic longitude (degree)\n",
       "Area of Use:\n",
       "- name: World.\n",
       "- bounds: (-180.0, -90.0, 180.0, 90.0)\n",
       "Datum: World Geodetic System 1984 ensemble\n",
       "- Ellipsoid: WGS 84\n",
       "- Prime Meridian: Greenwich"
      ]
     },
     "execution_count": 27,
     "metadata": {},
     "output_type": "execute_result"
    }
   ],
   "source": [
    "Dewanganj_poly.crs = watershed.crs\n",
    "Dewanganj_poly.crs"
   ]
  },
  {
   "cell_type": "code",
   "execution_count": null,
   "metadata": {},
   "outputs": [],
   "source": [
    "#Creating empty panda data frame\n",
    "data = pd.DataFrame('', columns=['Month', 'Rainfall'], index = np.arange(1,12))\n",
    "data"
   ]
  },
  {
   "cell_type": "code",
   "execution_count": null,
   "metadata": {},
   "outputs": [],
   "source": [
    "# Reading the information from the rainfall rasters\n",
    "i = 0\n",
    "for rast in os.listdir('.\\Dewanganj_RF'):\n",
    "    if rast.endswith('.tif'):\n",
    "        rf = rasterio.open(f'./Dewanganj_RF/{rast}')\n",
    "        rainfall_array = rf.read(1)\n",
    "        affine = rf.transform\n",
    "        \n",
    "        sum_rf = rasterstats.zonal_stats(Dewanganj_poly, rainfall_array, affine=affine, stats=['sum'], geojson=True, nodata=rf.nodata)\n",
    "        sum_rf = sum_rf[0]['sum']\n",
    "        data.iloc[i]['Month'] = rast[:-4]\n",
    "        data.iloc[i]['Rainfall'] = sum_rf\n",
    "\n",
    "        i = i + 1\n",
    "        print(sum_rf)"
   ]
  },
  {
   "cell_type": "code",
   "execution_count": 33,
   "metadata": {},
   "outputs": [
    {
     "data": {
      "text/html": [
       "<div>\n",
       "<style scoped>\n",
       "    .dataframe tbody tr th:only-of-type {\n",
       "        vertical-align: middle;\n",
       "    }\n",
       "\n",
       "    .dataframe tbody tr th {\n",
       "        vertical-align: top;\n",
       "    }\n",
       "\n",
       "    .dataframe thead th {\n",
       "        text-align: right;\n",
       "    }\n",
       "</style>\n",
       "<table border=\"1\" class=\"dataframe\">\n",
       "  <thead>\n",
       "    <tr style=\"text-align: right;\">\n",
       "      <th></th>\n",
       "      <th>Month</th>\n",
       "      <th>Rainfall</th>\n",
       "    </tr>\n",
       "  </thead>\n",
       "  <tbody>\n",
       "    <tr>\n",
       "      <th>1</th>\n",
       "      <td>01-2022</td>\n",
       "      <td>11720.875008</td>\n",
       "    </tr>\n",
       "    <tr>\n",
       "      <th>2</th>\n",
       "      <td>02-2022</td>\n",
       "      <td>33800.532235</td>\n",
       "    </tr>\n",
       "    <tr>\n",
       "      <th>3</th>\n",
       "      <td>03-2022</td>\n",
       "      <td>34724.75801</td>\n",
       "    </tr>\n",
       "    <tr>\n",
       "      <th>4</th>\n",
       "      <td>04-2022</td>\n",
       "      <td>189851.945865</td>\n",
       "    </tr>\n",
       "    <tr>\n",
       "      <th>5</th>\n",
       "      <td>05-2022</td>\n",
       "      <td>113456.278153</td>\n",
       "    </tr>\n",
       "    <tr>\n",
       "      <th>6</th>\n",
       "      <td>06-2022</td>\n",
       "      <td>202649.652599</td>\n",
       "    </tr>\n",
       "    <tr>\n",
       "      <th>7</th>\n",
       "      <td>07-2022</td>\n",
       "      <td>119186.492803</td>\n",
       "    </tr>\n",
       "    <tr>\n",
       "      <th>8</th>\n",
       "      <td>08-2022</td>\n",
       "      <td>93900.369668</td>\n",
       "    </tr>\n",
       "    <tr>\n",
       "      <th>9</th>\n",
       "      <td>09-2022</td>\n",
       "      <td>96324.212885</td>\n",
       "    </tr>\n",
       "    <tr>\n",
       "      <th>10</th>\n",
       "      <td>10-2022</td>\n",
       "      <td>61924.91802</td>\n",
       "    </tr>\n",
       "    <tr>\n",
       "      <th>11</th>\n",
       "      <td>11-2022</td>\n",
       "      <td>8599.279615</td>\n",
       "    </tr>\n",
       "  </tbody>\n",
       "</table>\n",
       "</div>"
      ],
      "text/plain": [
       "      Month       Rainfall\n",
       "1   01-2022   11720.875008\n",
       "2   02-2022   33800.532235\n",
       "3   03-2022    34724.75801\n",
       "4   04-2022  189851.945865\n",
       "5   05-2022  113456.278153\n",
       "6   06-2022  202649.652599\n",
       "7   07-2022  119186.492803\n",
       "8   08-2022   93900.369668\n",
       "9   09-2022   96324.212885\n",
       "10  10-2022    61924.91802\n",
       "11  11-2022    8599.279615"
      ]
     },
     "execution_count": 33,
     "metadata": {},
     "output_type": "execute_result"
    }
   ],
   "source": [
    "data"
   ]
  },
  {
   "cell_type": "code",
   "execution_count": 45,
   "metadata": {},
   "outputs": [],
   "source": [
    "# Visualization with matplotlib"
   ]
  },
  {
   "cell_type": "code",
   "execution_count": 47,
   "metadata": {},
   "outputs": [],
   "source": [
    "data ['Month'] = pd.to_datetime(data['Month'], infer_datetime_format = True)\n",
    "data ['Month'] = data['Month'].dt.month\n",
    "data = data.sort_values(by = 'Month')"
   ]
  },
  {
   "cell_type": "code",
   "execution_count": 56,
   "metadata": {},
   "outputs": [
    {
     "data": {
      "image/png": "[encoded data removed]",
      "text/plain": [
       "<Figure size 640x480 with 1 Axes>"
      ]
     },
     "metadata": {},
     "output_type": "display_data"
    }
   ],
   "source": [
    "fig, (ax1) = plt.subplots(1)\n",
    "data.plot(x = 'Month', y = 'Rainfall', kind = 'bar', ax=ax1, title = 'Monthly Rainfall in Dewangonj Watershed in 2022 (mm)')\n",
    "plt.show()"
   ]
  }
 ],
 "metadata": {
  "kernelspec": {
   "display_name": "Python 3",
   "language": "python",
   "name": "python3"
  },
  "language_info": {
   "codemirror_mode": {
    "name": "ipython",
    "version": 3
   },
   "file_extension": ".py",
   "mimetype": "text/x-python",
   "name": "python",
   "nbconvert_exporter": "python",
   "pygments_lexer": "ipython3",
   "version": "3.10.9"
  },
  "vscode": {
   "interpreter": {
    "hash": "5c1f741a4f83aa020b4b2a4d7353a073a4e5e4a855a3258a20da40294ddbf005"
   }
  }
 },
 "nbformat": 4,
 "nbformat_minor": 2
}
